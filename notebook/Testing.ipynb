{
 "cells": [
  {
   "cell_type": "code",
   "execution_count": 1,
   "metadata": {},
   "outputs": [],
   "source": [
    "import torch\n",
    "import torch.nn as nn\n"
   ]
  },
  {
   "cell_type": "code",
   "execution_count": 4,
   "metadata": {},
   "outputs": [],
   "source": [
    "rnn = nn.RNN(3,5)"
   ]
  },
  {
   "cell_type": "code",
   "execution_count": 17,
   "metadata": {},
   "outputs": [
    {
     "data": {
      "text/plain": [
       "(tensor([[[ 0.7450,  0.3163, -0.0092,  0.2572, -0.6805]]],\n",
       "        grad_fn=<StackBackward>),\n",
       " tensor([[[ 0.7450,  0.3163, -0.0092,  0.2572, -0.6805]]],\n",
       "        grad_fn=<StackBackward>))"
      ]
     },
     "execution_count": 17,
     "metadata": {},
     "output_type": "execute_result"
    }
   ],
   "source": [
    "rnn(torch.rand((1,1,3)))"
   ]
  },
  {
   "cell_type": "code",
   "execution_count": 25,
   "metadata": {},
   "outputs": [],
   "source": [
    "import os\n",
    "import torch\n",
    "import torchtext\n",
    "from torchtext.datasets import translation, imdb, language_modeling, nli\n",
    "from torchtext.datasets import sequence_tagging, unsupervised_learning, text_classification, sst\n",
    "from torchtext.data import Field, BucketIterator\n",
    "import torchtext.data as data\n",
    "\n",
    "import pytorch_lightning as pl\n",
    "\n",
    "import torch.nn as nn\n",
    "import torch.nn.functional as F\n",
    "\n",
    "from torch.utils.data import random_split, DataLoader, Dataset\n"
   ]
  },
  {
   "cell_type": "code",
   "execution_count": 28,
   "metadata": {},
   "outputs": [],
   "source": [
    "DATA_ROOT_PATH = '../data/sequence_tagging/'\n",
    "NGRAMS = 2\n",
    "VOCAB = None\n",
    "\n",
    "BATCH_SIZE = 16\n",
    "EMBED_DIM = 32\n",
    "\n",
    "# text_classification.YahooAnswers(root=DATA_ROOT_PATH, ngrams=NGRAMS, vocab=VOCAB)"
   ]
  },
  {
   "cell_type": "code",
   "execution_count": 30,
   "metadata": {},
   "outputs": [
    {
     "name": "stdout",
     "output_type": "stream",
     "text": [
      "downloading train.txt.gz\n"
     ]
    },
    {
     "name": "stderr",
     "output_type": "stream",
     "text": [
      "train.txt.gz: 100%|██████████| 612k/612k [00:01<00:00, 491kB/s]  \n"
     ]
    },
    {
     "name": "stdout",
     "output_type": "stream",
     "text": [
      "downloading test.txt.gz\n"
     ]
    },
    {
     "name": "stderr",
     "output_type": "stream",
     "text": [
      "test.txt.gz: 100%|██████████| 140k/140k [00:00<00:00, 230kB/s]  \n"
     ]
    }
   ],
   "source": [
    "# Define the fields associated with the sequences.\n",
    "WORD = data.Field(init_token=\"<bos>\", eos_token=\"<eos>\")\n",
    "UD_TAG = data.Field(init_token=\"<bos>\", eos_token=\"<eos>\")\n",
    "\n",
    "# Download and the load default data.\n",
    "train, val, test = sequence_tagging..splits( root=DATA_ROOT_PATH,\n",
    "    fields=(('word', WORD), ('udtag', UD_TAG), (None, None)))"
   ]
  },
  {
   "cell_type": "code",
   "execution_count": 37,
   "metadata": {},
   "outputs": [],
   "source": [
    "# train[0].udtag"
   ]
  },
  {
   "cell_type": "code",
   "execution_count": null,
   "metadata": {},
   "outputs": [],
   "source": []
  }
 ],
 "metadata": {
  "kernelspec": {
   "display_name": "Python 3",
   "language": "python",
   "name": "python3"
  },
  "language_info": {
   "codemirror_mode": {
    "name": "ipython",
    "version": 3
   },
   "file_extension": ".py",
   "mimetype": "text/x-python",
   "name": "python",
   "nbconvert_exporter": "python",
   "pygments_lexer": "ipython3",
   "version": "3.6.8"
  }
 },
 "nbformat": 4,
 "nbformat_minor": 4
}
